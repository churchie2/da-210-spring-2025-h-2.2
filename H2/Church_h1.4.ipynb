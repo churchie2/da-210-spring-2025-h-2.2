{
 "cells": [
  {
   "cell_type": "markdown",
   "id": "ef43a4dd-528e-4d4d-901b-670c8e51ae42",
   "metadata": {},
   "source": [
    "Andrew Church - HW 1.4"
   ]
  },
  {
   "cell_type": "markdown",
   "id": "0e2867c3-64b6-4d4e-a5ad-6162d96da56f",
   "metadata": {},
   "source": [
    "I consulted the internet on a refresher for how to read files"
   ]
  },
  {
   "cell_type": "markdown",
   "id": "8630f9e2-2e49-4e1b-9f35-04064359aede",
   "metadata": {},
   "source": [
    "Question 1\n",
    "\n",
    "Using the compound_interest_count function as a starting point, update the function compound_interest_while so that it uses a while loop instead of a for loop and calculates the correct answer even if it takes more than 50 epochs to reach the target savings."
   ]
  },
  {
   "cell_type": "code",
   "execution_count": 9,
   "id": "08df0656-9050-41f2-83f5-e7370acaa17c",
   "metadata": {},
   "outputs": [],
   "source": [
    "def compound_interest_count(balance, rate, target_savings):\n",
    "    ''' use principal and interest rate to calculate compoun interest \n",
    "    and return how many epochs it takes to reach target savings amount'''\n",
    "    epochs = 0\n",
    "    for i in range(50):\n",
    "        balance = balance + (balance * rate)\n",
    "        if balance < target_savings:\n",
    "            epochs +=1\n",
    "    return epochs+1\n",
    "    \n",
    "def compound_interest_while(balance, rate, target_savings):\n",
    "    epochs = 0\n",
    "    while balance < target_savings:\n",
    "        balance = balance + (balance * rate)\n",
    "        epochs +=1\n",
    "    return epochs+1"
   ]
  },
  {
   "cell_type": "markdown",
   "id": "16657147-173a-4bc5-88c9-3cf25ab4096b",
   "metadata": {},
   "source": [
    "Question 2\n",
    "\n",
    "In the code cell below, execute the following lines of code:\n",
    "\n",
    "Import the function parse_to_int from the local Python file utils.py\n",
    "Call the function on the string value '3' and store the result as a variable called parsed_a\n",
    "Call the function on the string value '3.9' and store the result as a variable called parsed_b\n",
    "Call the function on the string value 'three' and store the result as a variable called parsed_c\n",
    "Print all three variables, parsed_a, parsed_b, and parsed_c"
   ]
  },
  {
   "cell_type": "code",
   "execution_count": 28,
   "id": "c427c43b-3c8a-4f50-8db2-324d68ac434b",
   "metadata": {},
   "outputs": [
    {
     "name": "stdout",
     "output_type": "stream",
     "text": [
      "3 4 False\n"
     ]
    }
   ],
   "source": [
    "def parse_to_int(text):\n",
    "    '''try to convert input string to integer, or convert to float and round to nearest integer, \n",
    "    except return False'''\n",
    "    try:\n",
    "        return round(float(text))\n",
    "    except:\n",
    "        return False\n",
    "\n",
    "parsed_a = parse_to_int(\"3\")\n",
    "parsed_b = parse_to_int(\"3.9\")\n",
    "parsed_c = parse_to_int(\"three\")\n",
    "\n",
    "print(parsed_a, parsed_b, parsed_c)"
   ]
  },
  {
   "cell_type": "markdown",
   "id": "a67e0ec9-2495-4d7f-8862-ca4a01fc3b73",
   "metadata": {},
   "source": [
    "Question 3\n",
    "\n",
    "Load the word data from the file 'english_words_lexicon.txt' and convert it to a list where each element is a separate word. Store this list as a variable called wordlist. (Feel free to use the sample code in our Sandbox with this part of the assignment).\n",
    "Fill in the palindromes function below so that it takes a list of words as a parameter and returns a list of all palidromes in the original list.\n",
    "Call your function using wordlist as the input, and store the output as a variable called wordlist_palindromes\n",
    "Print the length of wordlist_palindromes\n",
    "Note: A palindrome is a word, phrase, or letter sequence that reads the same backward as forward, such as 'madam' or 'civic'."
   ]
  },
  {
   "cell_type": "code",
   "execution_count": 62,
   "id": "73b4b355-04e0-49eb-b8ee-53b49cdfc9e1",
   "metadata": {},
   "outputs": [
    {
     "ename": "SyntaxError",
     "evalue": "(unicode error) 'unicodeescape' codec can't decode bytes in position 2-3: truncated \\UXXXXXXXX escape (672976926.py, line 1)",
     "output_type": "error",
     "traceback": [
      "\u001b[1;36m  Cell \u001b[1;32mIn[62], line 1\u001b[1;36m\u001b[0m\n\u001b[1;33m    current_path = \"C:\\Users\\ajchu\\Downloads\\english_words_lexicon.txt\"\u001b[0m\n\u001b[1;37m                   ^\u001b[0m\n\u001b[1;31mSyntaxError\u001b[0m\u001b[1;31m:\u001b[0m (unicode error) 'unicodeescape' codec can't decode bytes in position 2-3: truncated \\UXXXXXXXX escape\n"
     ]
    }
   ],
   "source": [
    "current_path = \"C:\\Users\\ajchu\\Downloads\\english_words_lexicon.txt\"\n",
    "\n",
    "with open('current_path', 'r') as words:\n",
    "    wordy = [word.strip() for word in words.readlines()]\n",
    "    \n",
    " \n",
    "def palindromes(wordy):\n",
    "    if word == word[::-1]:\n",
    "        wordlist_palindromes.append(word)\n",
    "\n",
    "wordlist_palindromes = palindromes(wordy)\n",
    "print(len(wordlist_palindromes))\n",
    "    "
   ]
  },
  {
   "cell_type": "markdown",
   "id": "fbbb92e8-5914-46cf-8d3e-cce942576466",
   "metadata": {},
   "source": [
    "Question 4\n",
    "\n",
    "Fill in the count_vowels function below so that it takes a string as a parameter and returns the number of vowels in that string\n",
    "If you are looking for an extra challenge, try one or both of the following:\n",
    "See if you can add conditional logic to try and differentiate y as a vowel and y as a consonant\n",
    "See if you can count the vowels in your input string without using any conditional logic or while equivalent"
   ]
  },
  {
   "cell_type": "code",
   "execution_count": 79,
   "id": "2c8dc55a-a741-4c37-8a7b-113bbdd4a041",
   "metadata": {},
   "outputs": [
    {
     "data": {
      "text/plain": [
       "2"
      ]
     },
     "execution_count": 79,
     "metadata": {},
     "output_type": "execute_result"
    }
   ],
   "source": [
    "def count_vowels(str):\n",
    "    vowels = (\"a\", \"e\", \"i\", \"o\", \"u\")\n",
    "    running_count = 0\n",
    "    for char in str:\n",
    "        if char in vowels:\n",
    "            running_count = running_count + 1\n",
    "    return running_count\n",
    "\n",
    "count_vowels(\"andrew\")\n",
    "    "
   ]
  },
  {
   "cell_type": "markdown",
   "id": "4221ff02-3cb0-4ec0-baf7-a57d8a1b8767",
   "metadata": {},
   "source": [
    "Tests\n",
    "\n",
    "Once you've completed the tasks above, execute the code chunk below. If you've done everything properly, there should be no errors, and every statement or function call should return True."
   ]
  },
  {
   "cell_type": "code",
   "execution_count": 12,
   "id": "fbe89d13-53b6-4a62-937d-51b7d59a70fc",
   "metadata": {},
   "outputs": [],
   "source": [
    "def try_except(e, command):\n",
    "    try:\n",
    "        return f'Test {e} returned {eval(command)}'\n",
    "    except Exception as ex:\n",
    "        return f'Test {e} failed with an exception {repr(ex)}'"
   ]
  },
  {
   "cell_type": "code",
   "execution_count": 81,
   "id": "8956e225-9f7e-4b79-911d-bf20b349aba4",
   "metadata": {},
   "outputs": [
    {
     "name": "stdout",
     "output_type": "stream",
     "text": [
      "Test 1 returned False\n",
      "Test 2 returned False\n",
      "Test 3 returned True\n",
      "Test 4 returned True\n",
      "Test 5 returned True\n",
      "Test 6 failed with an exception NameError(\"name 'wordlist' is not defined\")\n",
      "Test 7 failed with an exception TypeError('palindromes() takes 0 positional arguments but 1 was given')\n",
      "Test 8 returned False\n"
     ]
    }
   ],
   "source": [
    "tests = '''compound_interest_while(100, 0.05, 1800) == 60\n",
    "compound_interest_while(100, 0.05, 200) == 15\n",
    "parsed_a==3\n",
    "parsed_b==4\n",
    "parsed_c==False\n",
    "len(wordlist)==267751\n",
    "len(palindromes(['aaa', 'bad', 'bunny', 'hannah'])) == 2\n",
    "len(wordlist_palindromes)==152'''.split('\\n')\n",
    "\n",
    "for e, command in enumerate(tests):\n",
    "    result = try_except(e+1, command)\n",
    "    print(result)"
   ]
  }
 ],
 "metadata": {
  "kernelspec": {
   "display_name": "Python [conda env:base] *",
   "language": "python",
   "name": "conda-base-py"
  },
  "language_info": {
   "codemirror_mode": {
    "name": "ipython",
    "version": 3
   },
   "file_extension": ".py",
   "mimetype": "text/x-python",
   "name": "python",
   "nbconvert_exporter": "python",
   "pygments_lexer": "ipython3",
   "version": "3.12.7"
  }
 },
 "nbformat": 4,
 "nbformat_minor": 5
}
